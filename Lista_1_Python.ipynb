{
  "nbformat": 4,
  "nbformat_minor": 0,
  "metadata": {
    "colab": {
      "name": "Lista 1 Python.ipynb",
      "provenance": [],
      "collapsed_sections": [],
      "authorship_tag": "ABX9TyMr3ItMNZhYfYDGRoDWyCNR",
      "include_colab_link": true
    },
    "kernelspec": {
      "name": "python3",
      "display_name": "Python 3"
    },
    "language_info": {
      "name": "python"
    }
  },
  "cells": [
    {
      "cell_type": "markdown",
      "metadata": {
        "id": "view-in-github",
        "colab_type": "text"
      },
      "source": [
        "<a href=\"https://colab.research.google.com/github/JeanNesi/AtividadePython/blob/main/Lista_1_Python.ipynb\" target=\"_parent\"><img src=\"https://colab.research.google.com/assets/colab-badge.svg\" alt=\"Open In Colab\"/></a>"
      ]
    },
    {
      "cell_type": "code",
      "source": [
        "#ATIVIDADE 1 - \tEscreva um programa que receba 2 valores do tipo inteiro x e y, e calcule e imprima o valor de z.\n",
        "\n",
        "x = int(input(\"Digite um valor inteiro para X: \"))\n",
        "y = int(input(\"Digite um valor inteiro para Y: \"))\n",
        "\n",
        "z= ((x ** 2) + (y ** 2)) / (x - y)\n",
        "\n",
        "print(\"O resultado da equação é:\", z)"
      ],
      "metadata": {
        "id": "5s_af0dAO2rF"
      },
      "execution_count": null,
      "outputs": []
    },
    {
      "cell_type": "code",
      "source": [
        "#ATIVIDADE 2 - Escreva um programa que receba o salário de um funcionário (float), e retorne o resultado do novo salário com reajuste de 35%.\n",
        "\n",
        "x = float(input(\"Digite o salário: \"))\n",
        "\n",
        "y= x * 1.35\n",
        "\n",
        "print(\"R$\",y)"
      ],
      "metadata": {
        "id": "1cTwDzA2bIyc"
      },
      "execution_count": null,
      "outputs": []
    },
    {
      "cell_type": "code",
      "source": [
        "#ATIVIDADE 3 - Faça um Programa que leia 4 notas, mostre as notas e a média na tela.\n",
        "\n",
        "notas = []\n",
        "soma = 0\n",
        "\n",
        "for i in range(0,4):\n",
        "  notas.append(int(input(f\"Digite a {i+1}° nota: \")))\n",
        "\n",
        "print(\"\")\n",
        "\n",
        "for c, v in enumerate(notas):\n",
        "  print(f\"a {c+1}ª nota é: {v}\")\n",
        "  soma += v\n",
        "\n",
        "media = soma / 4\n",
        "print(\"\\nA média final é: \", media)"
      ],
      "metadata": {
        "id": "aQllJPh_Ug-b"
      },
      "execution_count": null,
      "outputs": []
    },
    {
      "cell_type": "code",
      "source": [
        "#ATIVIDADE 4 - Faça um programa que lê o nome de um produto, a quantidade comprada, o valor unitário e o percentual de desconto a ser aplicado para o pagamento. \n",
        "#Imprima na tela o nome do produto e o valor total da venda.\n",
        "\n",
        "produto = input(\"Digite o nome do produto: \")\n",
        "quantidade = int(input(\"Digite a quantidade do produto: \"))\n",
        "valor = float(input(\"Digite o valor do produto: \"))\n",
        "desconto = float(input(\"Digite o desconto em porcentagem do produto: \"))\n",
        "\n",
        "\n",
        "valorIncial = valor * quantidade\n",
        "valorFinal= valorIncial - (valorIncial * desconto/100)\n",
        "\n",
        "print()\n",
        "\n",
        "print(\"O produto é: \", produto)\n",
        "print(\"O valor total é: R$\", valorFinal)"
      ],
      "metadata": {
        "id": "0TXsK-FfcM9j"
      },
      "execution_count": null,
      "outputs": []
    },
    {
      "cell_type": "code",
      "source": [
        "#ATIVIDADE 5 - Faça um programa que informe a distância em quilômetros de um raio para o observador. \n",
        "#O observador deve informar o tempo (em segundos) transcorrido entre ver o raio e ouvir o trovão.  Assuma que a velocidade do som seja 340 m/s\n",
        "\n",
        "tempo = float(input(\"Digite o tempo(em segundos) entre ver o raio e ouvir: \"))\n",
        "\n",
        "distancia = (tempo * 340) / 1000\n",
        "\n",
        "print(\"A distância é de:\", distancia,\"km\")"
      ],
      "metadata": {
        "id": "F7FPTCLufQiG",
        "colab": {
          "base_uri": "https://localhost:8080/"
        },
        "outputId": "c1b465cd-8860-4673-c759-d4ab67a374cb"
      },
      "execution_count": 26,
      "outputs": [
        {
          "output_type": "stream",
          "name": "stdout",
          "text": [
            "Digite o tempo(em segundos) entre ver o raio e ouvir: 4\n",
            "A distância é de: 1.36 km\n"
          ]
        }
      ]
    },
    {
      "cell_type": "code",
      "source": [
        "#ATIVIDADE 6 - Faça um programa que lê um valor em reais e calcule o valor equivalente em dólares. \n",
        "#O usuário deve informar, além do valor em reais da compra, o valor da cotação do dólar.\n",
        "\n",
        "real = float(input(\"Digite o valor em reais da compra: \"))\n",
        "dolar = float(input(\"Digite a cotação do dólar: \"))\n",
        "\n",
        "conversao = real / dolar\n",
        "conversao = round(conversao, 2)\n",
        "\n",
        "print(\"A conversão do valor de real para dolar da compra é de: R$\", conversao)"
      ],
      "metadata": {
        "id": "KdPqTQSMge3C"
      },
      "execution_count": null,
      "outputs": []
    },
    {
      "cell_type": "code",
      "source": [
        "#ATIVIDADE 7 - Faça um programa que transforme uma temperatura fornecida em Celsius para a correspondente em Fahrenheit. \n",
        "#A formula de conversão de Celsius para Fahrenheit é a seguinte: C = (5/9) * (F – 32)\n",
        "\n",
        "celsius = float(input(\"Digite a temperatura em grau Celsius: \"))\n",
        "\n",
        "fahrenheit = celsius * 1.8 + 32\n",
        "\n",
        "print(\"A temperatura em grau Fahrenheit é de: \", fahrenheit, \"°F\")"
      ],
      "metadata": {
        "id": "AVaop4jXhv6Y"
      },
      "execution_count": null,
      "outputs": []
    },
    {
      "cell_type": "code",
      "source": [
        "#ATIVIDADE 8 - Crie um programa que receba um número inteiro n, correspondente a um valor em reais. \n",
        "#Calcule a quantidade mínima de notas que um banco deve fornecer para atingir o valor. Notas disponíveis: 100,00 reais; 50,00 reais; 10,00 reais; 1,00 real.\n",
        "\n",
        "valor = int(input(\"Digite o valor que deseja sacar: \"))\n",
        "\n",
        "n100 = int(valor / 100)\n",
        "resto = valor % 100\n",
        "\n",
        "n50 = int(resto / 50)\n",
        "resto = resto % 50\n",
        "\n",
        "n10 = int(resto / 10)\n",
        "resto = resto % 10\n",
        "\n",
        "n1= int(resto / 1)\n",
        "resto = resto % 1\n",
        "\n",
        "print(\"Notas de R$100: \", n100, \"\\nNotas de R$50: \", n50, \"\\nNotas de R$10: \", n10, \"\\nNotas de R$1: \", n1)"
      ],
      "metadata": {
        "id": "zfOYO8XNiyJR"
      },
      "execution_count": null,
      "outputs": []
    },
    {
      "cell_type": "code",
      "source": [
        "#ATIVIDADE 9 - Escreva um programa que solicite uma frase ao usuário e escreva a frase toda em maiúscula e sem espaços em branco\n",
        "\n",
        "a = input(\"Digite uma frase: \")\n",
        "\n",
        "b = a.upper()\n",
        "\n",
        "c = b.strip()\n",
        "\n",
        "print(c)"
      ],
      "metadata": {
        "id": "ktvzLz4oYA-u"
      },
      "execution_count": null,
      "outputs": []
    },
    {
      "cell_type": "code",
      "source": [
        "#ATIVIDADE 10 - Faça um programa que dada duas strings, s1 e s2 retornam uma nova string composta do primeiro, do meio e do último caracteres de cada string de entrada.\n",
        "\n",
        "s1 = \"VASCO\"\n",
        "s2 = \"GIGANTE\"\n",
        "\n",
        "print(s1[0], s2[0], s1[2], s2[3], s1[4], s2[6])"
      ],
      "metadata": {
        "id": "RXVTCXpvo3Rc",
        "colab": {
          "base_uri": "https://localhost:8080/"
        },
        "outputId": "582fddd4-d73d-4c83-d459-c1657aeea4c4"
      },
      "execution_count": 39,
      "outputs": [
        {
          "output_type": "stream",
          "name": "stdout",
          "text": [
            "V G S A O E\n"
          ]
        }
      ]
    },
    {
      "cell_type": "code",
      "source": [
        "#ATIVIDADE 11 - Dada uma frase fornecida pelo usuário faça um programa que encontre todas as ocorrências de \"covid19\", \n",
        "#você pode ignorar a verificação de maiúsculas e minúsculas.\n",
        "\n",
        "a = input(\"Digite uma frase: \")\n",
        "\n",
        "b = a.lower()\n",
        "\n",
        "c = b.count(\"covid19\")\n",
        "\n",
        "print(\"A palavra Covid19 aparece na frase\", c, \"vezes!\")"
      ],
      "metadata": {
        "id": "wRMg4mKRtXO1"
      },
      "execution_count": null,
      "outputs": []
    },
    {
      "cell_type": "code",
      "source": [
        "#ATIVIDADE 12 - Faça um programa que leia dois valores numéricos e realize a soma, subtração, multiplicação e divisão deles.\n",
        "\n",
        "a = float(input(\"Digite um valor: \"))\n",
        "b = float(input(\"Digite outro valor: \"))\n",
        "\n",
        "\n",
        "\n",
        "if(b == 0):\n",
        "\n",
        "  soma = a + b\n",
        "  subtracao = a - b\n",
        "  multiplicacao = a * b\n",
        "\n",
        "  print(\"\\n\")\n",
        "  print(a, \"+\", b, \"=\", soma)\n",
        "  print(a, \"-\", b, \"=\", subtracao)\n",
        "  print(a, \"x\", b, \"=\", multiplicacao)\n",
        "  print(\"A divisão não pode ser calculada pois o segundo numero é igual a 0\")\n",
        "\n",
        "else:\n",
        "  soma = a + b\n",
        "  subtracao = a - b\n",
        "  multiplicacao = a * b\n",
        "  divisao = a / b\n",
        "\n",
        "  print(\"\\n\")\n",
        "  print(a, \"+\", b, \"=\", soma)\n",
        "  print(a, \"-\", b, \"=\", subtracao)\n",
        "  print(a, \"x\", b, \"=\", multiplicacao)\n",
        "  print(a, \"/\", b, \"=\", divisao)"
      ],
      "metadata": {
        "id": "vFU7kWEGu6O9"
      },
      "execution_count": null,
      "outputs": []
    },
    {
      "cell_type": "code",
      "source": [
        "#ATIVIDADE 13 - Faça um programa que receba um valor t referente a uma quantidade total em segundos. \n",
        "#Calcule a quantas horas:minutos:segundos a quantidade total de segundos corresponde.\n",
        "\n",
        "t = int(input(\"Digite o tempo em segundos: \"))\n",
        "\n",
        "horas = int(t / 3600)\n",
        "resto = t % 3600\n",
        "\n",
        "minutos = int(resto / 60)\n",
        "resto = t % 60\n",
        "\n",
        "\n",
        "print(horas,\"h\", minutos, \"m\", resto, \"s\")"
      ],
      "metadata": {
        "id": "mTEPldtNxR7N"
      },
      "execution_count": null,
      "outputs": []
    },
    {
      "cell_type": "code",
      "source": [
        "#ATIVIDADE 14 - Escreva um programa para verificar se a palavra 'laranja' está presente em \"Isto é suco de laranja\".\n",
        "\n",
        "a = \"Isto é suco de laranja\"\n",
        "\n",
        "if \"laranja\" in a:\n",
        "  print(\"A frase contém a palavra laranja\")\n",
        "\n",
        "else:\n",
        "  print(\"A frase não contém a palavra laranja\")"
      ],
      "metadata": {
        "id": "Qdq8gTnFXNoY"
      },
      "execution_count": null,
      "outputs": []
    },
    {
      "cell_type": "code",
      "source": [
        "#ATIVIDADE 15 - Crie um programa que imprima o comprimento de uma string fornecida pelo usuário.\n",
        "\n",
        "a = input(\"Digite uma frase: \")\n",
        "\n",
        "print(\"O numero de caracters da string é de:\" ,len(a))"
      ],
      "metadata": {
        "id": "Ab0IO5_YV8Dg"
      },
      "execution_count": null,
      "outputs": []
    },
    {
      "cell_type": "code",
      "source": [
        "#ATIVIDADE 16 - Escreva um código que calcule a hipotenusa de um triângulo retângulo, cujos catetos fornecidos pelo usuário.\n",
        "\n",
        "c1 = float(input(\"Digite o valor do primeiro cateto: \"))\n",
        "c2 = float(input(\"Digite o valor do segundo cateto: \"))\n",
        "\n",
        "if(c1 == 0 or c2 == 0):\n",
        "  print(\"O valor dos catetos não pode ser igual a zero!\")\n",
        "else:\n",
        "  h = pow(pow(c1, 2)+ pow(c2,2),0.5)\n",
        "  print(\"O valor da hipotenusa é: \", h)"
      ],
      "metadata": {
        "id": "wyMTDdf6JT72"
      },
      "execution_count": null,
      "outputs": []
    },
    {
      "cell_type": "code",
      "source": [
        "#ATIVIDADE 17 - Um triangulo equilátero é um triangulo que possui medidas iguais (AB = BC = AC). \n",
        "#Faça um programa onde o usuário fornece as medidas A, B e C e seu programa diga se é um triangulo equilátero (True ou False)\n",
        "\n",
        "a = float(input(\"Digite o valor do primeiro lado do triângulo: \"))\n",
        "b = float(input(\"Digite o valor do segundo lado do triângulo: \"))\n",
        "c = float(input(\"Digite o valor do terceiro lado do triângulo: \"))\n",
        "\n",
        "if(a == b == c):\n",
        "  print(\"True! O triângulo é equiláterio!\")\n",
        "else:\n",
        "  print(\"False! O triângulo não é equiláterio!\")"
      ],
      "metadata": {
        "id": "IVvgJVo5MnCP"
      },
      "execution_count": null,
      "outputs": []
    },
    {
      "cell_type": "code",
      "source": [
        "#ATIVIDADE 18 - Ler uma lista de 5 números inteiros e mostre cada número juntamente com a sua posição na lista.\n",
        "\n",
        "numeros = list()\n",
        "for i in range(0,5):\n",
        "  numeros.append(int(input(f\"Digite um número inteiro: \")))\n",
        "\n",
        "print(\"\\n\")\n",
        "\n",
        "for c, v in enumerate(numeros):\n",
        "  print(f\"A posição {c} da lista tem o número: {v}\")"
      ],
      "metadata": {
        "id": "Kw9_5n3HOGh2"
      },
      "execution_count": null,
      "outputs": []
    },
    {
      "cell_type": "code",
      "source": [
        "#ATIVIDADE 19 - Ler uma lista com 4 notas, em seguida o programa deve exibir as notas e a média.\n",
        "\n",
        "notas = []\n",
        "soma = 0\n",
        "\n",
        "for i in range(0,4):\n",
        "  notas.append(int(input(f\"Digite a {i+1}° nota: \")))\n",
        "\n",
        "print(\"\")\n",
        "\n",
        "for c, v in enumerate(notas):\n",
        "  print(f\"a {c+1}ª nota é: {v}\")\n",
        "  soma += v\n",
        "\n",
        "media = soma / 4\n",
        "print(\"\\nA média final é: \", media)"
      ],
      "metadata": {
        "id": "kn6eaR2IKpo6"
      },
      "execution_count": null,
      "outputs": []
    },
    {
      "cell_type": "code",
      "source": [
        "#ATIVIDADE 20 - Faça um Programa que peça a idade e a altura de 5 pessoas, \n",
        "#armazene cada informação no seu respectivo vetor. Imprima a idade e a altura na ordem inversa a ordem lida.\n",
        "\n",
        "idade = list()\n",
        "altura = list()\n",
        "for i in range(0,5):\n",
        "  idade.append(int(input(f\"Digite idade da {i+1}ª pessoa: \")))\n",
        "  altura.append(float(input(f\"Digite a altura da {i+1}ª pessoa: \")))\n",
        "  print(\"\\n\")\n",
        "\n",
        "print(\"\\n\")\n",
        "\n",
        "idade.reverse()\n",
        "altura.reverse()\n",
        "print(idade)\n",
        "print(altura)"
      ],
      "metadata": {
        "id": "938Uo6j5bw-J"
      },
      "execution_count": null,
      "outputs": []
    },
    {
      "cell_type": "code",
      "source": [
        "#ATIVIDADE 21 - Dadas duas listas L1 e L2, com n valores inteiros, respectivamente, escreva um programa que concatene as listas L1 e L2 em uma nova lista L3. \n",
        "#Em seguida, imprima a lista L3 ordenada de maneira crescente e decrescente\n",
        "\n",
        "l1 = [1,3,5]\n",
        "l2 = [2,4,6]\n",
        "\n",
        "l3 = l1 + l2\n",
        "\n",
        "print(\"L1 + L2 = \", l3)\n",
        "l3.sort()\n",
        "print(\"Crescente: \", l3)\n",
        "l3.sort(reverse=True)\n",
        "print(\"Decrescente: \", l3)"
      ],
      "metadata": {
        "id": "g2P4m5AuH-NJ"
      },
      "execution_count": null,
      "outputs": []
    },
    {
      "cell_type": "code",
      "source": [
        "#ATIVIDADE 22 - Crie um Python Script que conte quantas vezes um nome está presente em uma lista [’nome1’, ’nome2’, ...] \n",
        "#e armazena essa contagem em um dicionário {’nome’: xvezes}\n",
        "\n",
        "nomes = [\"Jean\", \"Carlos\", \"Jean\", \"Jean\", \"Carlos\", \"Luiz\", \"Pedro\", \"Jorge\", \"Rodrigo\"]\n",
        "dicionario = {}\n",
        "\n",
        "for i in nomes:\n",
        "    dicionario[i] = 0\n",
        "\n",
        "for i in nomes:\n",
        "    for j in dicionario:\n",
        "        if i == j:\n",
        "            dicionario[i] = dicionario[j] + 1\n",
        "           \n",
        "print(dicionario)"
      ],
      "metadata": {
        "id": "Zw-Zh9UVOZ2F"
      },
      "execution_count": null,
      "outputs": []
    },
    {
      "cell_type": "code",
      "source": [
        "#ATIVIDADE 23 - Crie um programa que cadastre informações de uma pessoa (nome, idade e cpf) \n",
        "#e depois coloque em um dicionário. Depois o usuário poderá escolher alguma das informações para acessa-lá.\n",
        "\n",
        "informacoes = {\n",
        "    'nome': \"\",\n",
        "    'idade': \"\",\n",
        "    'CPF' : \"\"\n",
        "}\n",
        "\n",
        "nome = input(\"Informe o nome: \")\n",
        "idade = input(\"Informe a idade: \")\n",
        "cpf = input(\"informe o CPF: \")\n",
        "\n",
        "informacoes['nome'] = nome\n",
        "informacoes['idade'] = idade\n",
        "informacoes['CPF'] = cpf\n",
        "\n",
        "info = input(\"Qual informação deseja acessar? (Nome, idade ou CPF)\")\n",
        "info = info.lower()\n",
        "\n",
        "if(info == \"nome\"):\n",
        "  print(\"O nome é: \", informacoes['nome'])\n",
        "\n",
        "elif(info == \"idade\"):\n",
        "  print(\"A idade é: \", informacoes['idade'], \"anos\")\n",
        "\n",
        "elif(info == \"cpf\"):\n",
        "  print(\"O CPF é: \", informacoes['CPF'])\n",
        "\n",
        "else:\n",
        "  print(\"Entrada inválida\")"
      ],
      "metadata": {
        "id": "1qP7y-UDQQnM"
      },
      "execution_count": null,
      "outputs": []
    }
  ]
}